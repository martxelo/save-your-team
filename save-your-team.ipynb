{
 "cells": [
  {
   "cell_type": "code",
   "execution_count": 53,
   "metadata": {},
   "outputs": [],
   "source": [
    "from itertools import combinations\n",
    "import pulp"
   ]
  },
  {
   "cell_type": "code",
   "execution_count": 54,
   "metadata": {},
   "outputs": [],
   "source": [
    "idx = [i for i in range(20)]\n",
    "win_loss = [i for i in range(3)]"
   ]
  },
  {
   "cell_type": "code",
   "execution_count": 55,
   "metadata": {},
   "outputs": [],
   "source": [
    "points = pulp.LpVariable.dicts('points', indices=idx, lowBound=0)\n",
    "matches = pulp.LpVariable.dicts('matches', indices=(idx, idx, win_loss), lowBound=0, upBound=1, cat='Binary')"
   ]
  },
  {
   "cell_type": "code",
   "execution_count": 56,
   "metadata": {},
   "outputs": [],
   "source": [
    "model = pulp.LpProblem('save_your_team', sense=pulp.LpMaximize)"
   ]
  },
  {
   "cell_type": "code",
   "execution_count": 57,
   "metadata": {},
   "outputs": [],
   "source": [
    "# cost\n",
    "model += points[17]"
   ]
  },
  {
   "cell_type": "code",
   "execution_count": 58,
   "metadata": {},
   "outputs": [],
   "source": [
    "for u, v in combinations(idx, r=2):\n",
    "    model += pulp.lpSum([matches[u][v][k] for k in win_loss]) == 1\n",
    "    model += pulp.lpSum([matches[v][u][k] for k in win_loss]) == 1"
   ]
  },
  {
   "cell_type": "code",
   "execution_count": 59,
   "metadata": {},
   "outputs": [],
   "source": [
    "for u in idx:\n",
    "    opponents = [i for i in idx if i != u]\n",
    "    model += points[u] == 3*pulp.lpSum([matches[u][v][0] for v in opponents]) +\\\n",
    "                          1*pulp.lpSum([matches[u][v][1] for v in opponents]) +\\\n",
    "                          1*pulp.lpSum([matches[v][u][1] for v in opponents]) +\\\n",
    "                          3*pulp.lpSum([matches[v][u][2] for v in opponents])"
   ]
  },
  {
   "cell_type": "code",
   "execution_count": 60,
   "metadata": {},
   "outputs": [],
   "source": [
    "for u in idx[:-1]:\n",
    "    model += points[u] >= points[u+1]"
   ]
  },
  {
   "cell_type": "code",
   "execution_count": 61,
   "metadata": {},
   "outputs": [
    {
     "name": "stdout",
     "output_type": "stream",
     "text": [
      "Welcome to the CBC MILP Solver \n",
      "Version: 2.10.3 \n",
      "Build Date: Dec 15 2019 \n",
      "\n",
      "command line - /home/martxelo/save-your-team/.venv/lib/python3.8/site-packages/pulp/apis/../solverdir/cbc/linux/64/cbc /tmp/e031e809ea6d4a2291f7b97c440c9e62-pulp.mps max timeMode elapsed branch printingOptions all solution /tmp/e031e809ea6d4a2291f7b97c440c9e62-pulp.sol (default strategy 1)\n",
      "At line 2 NAME          MODEL\n",
      "At line 3 ROWS\n",
      "At line 424 COLUMNS\n",
      "At line 5424 RHS\n",
      "At line 5844 BOUNDS\n",
      "At line 6985 ENDATA\n",
      "Problem MODEL has 419 rows, 1160 columns and 2718 elements\n",
      "Coin0008I MODEL read with 0 errors\n",
      "Option for timeMode changed from cpu to elapsed\n",
      "Continuous objective value is 63 - 0.01 seconds\n",
      "Cgl0004I processed model has 399 rows, 1140 columns (1140 integer (1140 of which binary)) and 3952 elements\n",
      "Cutoff increment increased from 1e-05 to 0.9999\n",
      "Cbc0038I Initial state - 0 integers unsatisfied sum - 0\n",
      "Cbc0038I Solution found of -63\n",
      "Cbc0038I Before mini branch and bound, 1140 integers at bound fixed and 0 continuous\n",
      "Cbc0038I Mini branch and bound did not improve solution (0.04 seconds)\n",
      "Cbc0038I After 0.04 seconds - Feasibility pump exiting with objective of -63 - took 0.00 seconds\n",
      "Cbc0012I Integer solution of -63 found by feasibility pump after 0 iterations and 0 nodes (0.04 seconds)\n",
      "Cbc0001I Search completed - best objective -63, took 0 iterations and 0 nodes (0.04 seconds)\n",
      "Cbc0035I Maximum depth 0, 0 variables fixed on reduced cost\n",
      "Cuts at root node changed objective from -63 to -63\n",
      "Probing was tried 0 times and created 0 cuts of which 0 were active after adding rounds of cuts (0.000 seconds)\n",
      "Gomory was tried 0 times and created 0 cuts of which 0 were active after adding rounds of cuts (0.000 seconds)\n",
      "Knapsack was tried 0 times and created 0 cuts of which 0 were active after adding rounds of cuts (0.000 seconds)\n",
      "Clique was tried 0 times and created 0 cuts of which 0 were active after adding rounds of cuts (0.000 seconds)\n",
      "MixedIntegerRounding2 was tried 0 times and created 0 cuts of which 0 were active after adding rounds of cuts (0.000 seconds)\n",
      "FlowCover was tried 0 times and created 0 cuts of which 0 were active after adding rounds of cuts (0.000 seconds)\n",
      "TwoMirCuts was tried 0 times and created 0 cuts of which 0 were active after adding rounds of cuts (0.000 seconds)\n",
      "ZeroHalf was tried 0 times and created 0 cuts of which 0 were active after adding rounds of cuts (0.000 seconds)\n",
      "\n",
      "Result - Optimal solution found\n",
      "\n",
      "Objective value:                63.00000000\n",
      "Enumerated nodes:               0\n",
      "Total iterations:               0\n",
      "Time (CPU seconds):             0.04\n",
      "Time (Wallclock seconds):       0.04\n",
      "\n",
      "Option for printingOptions changed from normal to all\n",
      "Total time (CPU seconds):       0.04   (Wallclock seconds):       0.05\n",
      "\n"
     ]
    },
    {
     "data": {
      "text/plain": [
       "1"
      ]
     },
     "execution_count": 61,
     "metadata": {},
     "output_type": "execute_result"
    }
   ],
   "source": [
    "model.solve()"
   ]
  },
  {
   "cell_type": "code",
   "execution_count": 62,
   "metadata": {},
   "outputs": [
    {
     "name": "stdout",
     "output_type": "stream",
     "text": [
      "Solution status = Optimal\n",
      "Solution objective = 63.0\n"
     ]
    }
   ],
   "source": [
    "print('Solution status =', pulp.constants.LpStatus[model.status])\n",
    "print('Solution objective =', model.objective.value())"
   ]
  },
  {
   "cell_type": "code",
   "execution_count": 63,
   "metadata": {},
   "outputs": [
    {
     "name": "stdout",
     "output_type": "stream",
     "text": [
      "63.0\n",
      "63.0\n",
      "63.0\n",
      "63.0\n",
      "63.0\n",
      "63.0\n",
      "63.0\n",
      "63.0\n",
      "63.0\n",
      "63.0\n",
      "63.0\n",
      "63.0\n",
      "63.0\n",
      "63.0\n",
      "63.0\n",
      "63.0\n",
      "63.0\n",
      "63.0\n",
      "2.0\n",
      "2.0\n"
     ]
    }
   ],
   "source": [
    "for u in idx:\n",
    "    print(points[u].value())"
   ]
  }
 ],
 "metadata": {
  "kernelspec": {
   "display_name": "Python 3.8.10 ('.venv': venv)",
   "language": "python",
   "name": "python3"
  },
  "language_info": {
   "codemirror_mode": {
    "name": "ipython",
    "version": 3
   },
   "file_extension": ".py",
   "mimetype": "text/x-python",
   "name": "python",
   "nbconvert_exporter": "python",
   "pygments_lexer": "ipython3",
   "version": "3.8.10"
  },
  "orig_nbformat": 4,
  "vscode": {
   "interpreter": {
    "hash": "69dbc2166dc2ed5c4472617f693b522363c59c587f746a6b14a89f36a8d159c6"
   }
  }
 },
 "nbformat": 4,
 "nbformat_minor": 2
}
