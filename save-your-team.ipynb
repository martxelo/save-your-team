{
 "cells": [
  {
   "cell_type": "markdown",
   "metadata": {},
   "source": [
    "# Save your team\n",
    "\n",
    "In spanish football league 20 teams face each other during the season. Each team plays 38 matches and get 3 points for a win, 1 point for a tie and 0 points for a loss. At the end of the season the three teams with the lowest performance fall to a lower division for the next year.\n",
    "\n",
    "It is said that 41 points would save your team, and I am not sure if it is a calculated value or just a statistical value obtained from all previous seasons. We will know now using linear programming."
   ]
  },
  {
   "cell_type": "markdown",
   "metadata": {},
   "source": [
    "## Imports\n",
    "\n",
    "We will need to import [PuLP](https://coin-or.github.io/pulp/) and other libraries."
   ]
  },
  {
   "cell_type": "code",
   "execution_count": 1,
   "metadata": {},
   "outputs": [],
   "source": [
    "from itertools import combinations, product\n",
    "\n",
    "import numpy as np\n",
    "import pandas as pd\n",
    "import matplotlib.pyplot as plt\n",
    "from tqdm import tqdm\n",
    "import pulp"
   ]
  },
  {
   "cell_type": "markdown",
   "metadata": {},
   "source": [
    "## Variables\n",
    "\n",
    "We need two main variable groups:\n",
    "\n",
    "- *points*: 20 integer variables to keep the points for each team.\n",
    "- *matches*: 1140 binary variables to track the results for all matches, 380 matches and 3 possible results. It is like a onehot variable: only one of the third index must be 1. If index 0 is 1 then the first team won, if index 1 is 1 the it is a tie, and if index 3 is 1 then the second team won the game.\n",
    "\n",
    "**NOTE**: for readability we will create more matches (20x20x3) but we need to discard a match of a team versus itself."
   ]
  },
  {
   "cell_type": "code",
   "execution_count": 2,
   "metadata": {},
   "outputs": [],
   "source": [
    "# indices for creating the variables\n",
    "teams = [i for i in range(20)]\n",
    "win_loss = [i for i in range(3)]\n",
    "\n",
    "# two groups of variables\n",
    "points = pulp.LpVariable.dicts('points', indices=teams, lowBound=0, cat='Integer')\n",
    "matches = pulp.LpVariable.dicts('matches', indices=(teams, teams, win_loss), lowBound=0, upBound=1, cat='Binary')"
   ]
  },
  {
   "cell_type": "markdown",
   "metadata": {},
   "source": [
    "## The problem\n",
    "\n",
    "We need to maximize the points of the third worst team, so the cost is just the value of that variable."
   ]
  },
  {
   "cell_type": "code",
   "execution_count": 3,
   "metadata": {},
   "outputs": [],
   "source": [
    "# crate the model\n",
    "model = pulp.LpProblem('save_your_team', sense=pulp.LpMaximize)\n",
    "\n",
    "# cost\n",
    "model += points[17]"
   ]
  },
  {
   "cell_type": "markdown",
   "metadata": {},
   "source": [
    "## Constraints\n",
    "\n",
    "- The first constraint says that just one result is possible for each match.\n",
    "- The second constraint sum the points of every team and every match.\n",
    "- The third constraint limit the points and keeps the order. First team must have at least the same points than the second. The second team at least the same points than the third, and so on."
   ]
  },
  {
   "cell_type": "code",
   "execution_count": 4,
   "metadata": {},
   "outputs": [],
   "source": [
    "# first constraint, itertools.combinations is used for avoiding matches of a team versus itself\n",
    "for u, v in combinations(teams, r=2):\n",
    "    model += pulp.lpSum([matches[u][v][k] for k in win_loss]) == 1\n",
    "    model += pulp.lpSum([matches[v][u][k] for k in win_loss]) == 1\n",
    "\n",
    "# second constraint, 3 points for a win, one point for a loss\n",
    "for u in teams:\n",
    "    opponents = [i for i in teams if i != u]\n",
    "    model += points[u] == 3*pulp.lpSum([matches[u][v][0] for v in opponents]) +\\\n",
    "                          1*pulp.lpSum([matches[u][v][1] for v in opponents]) +\\\n",
    "                          1*pulp.lpSum([matches[v][u][1] for v in opponents]) +\\\n",
    "                          3*pulp.lpSum([matches[v][u][2] for v in opponents])\n",
    "\n",
    "# third constraint\n",
    "for u in teams[:-1]:\n",
    "    model += points[u] >= points[u+1]"
   ]
  },
  {
   "cell_type": "markdown",
   "metadata": {},
   "source": [
    "## Solution\n",
    "\n",
    "Once the model is created with a cost and all the constraints we can solve it."
   ]
  },
  {
   "cell_type": "code",
   "execution_count": 5,
   "metadata": {},
   "outputs": [
    {
     "name": "stdout",
     "output_type": "stream",
     "text": [
      "Solution status = Optimal\n",
      "Solution objective = 63\n"
     ]
    }
   ],
   "source": [
    "model.solve(pulp.PULP_CBC_CMD(msg=0))\n",
    "\n",
    "print('Solution status =', pulp.constants.LpStatus[model.status])\n",
    "print('Solution objective =', int(model.objective.value()))"
   ]
  },
  {
   "cell_type": "markdown",
   "metadata": {},
   "source": [
    "WOW!!! This is quite above the 41 points the press says. Let's create a DataFrame to see what happened."
   ]
  },
  {
   "cell_type": "code",
   "execution_count": 6,
   "metadata": {},
   "outputs": [
    {
     "data": {
      "text/html": [
       "<div>\n",
       "<style scoped>\n",
       "    .dataframe tbody tr th:only-of-type {\n",
       "        vertical-align: middle;\n",
       "    }\n",
       "\n",
       "    .dataframe tbody tr th {\n",
       "        vertical-align: top;\n",
       "    }\n",
       "\n",
       "    .dataframe thead th {\n",
       "        text-align: right;\n",
       "    }\n",
       "</style>\n",
       "<table border=\"1\" class=\"dataframe\">\n",
       "  <thead>\n",
       "    <tr style=\"text-align: right;\">\n",
       "      <th></th>\n",
       "      <th>position</th>\n",
       "      <th>points</th>\n",
       "      <th>wins</th>\n",
       "      <th>ties</th>\n",
       "      <th>losses</th>\n",
       "    </tr>\n",
       "  </thead>\n",
       "  <tbody>\n",
       "    <tr>\n",
       "      <th>0</th>\n",
       "      <td>1</td>\n",
       "      <td>63</td>\n",
       "      <td>17</td>\n",
       "      <td>0</td>\n",
       "      <td>21</td>\n",
       "    </tr>\n",
       "    <tr>\n",
       "      <th>1</th>\n",
       "      <td>2</td>\n",
       "      <td>63</td>\n",
       "      <td>17</td>\n",
       "      <td>0</td>\n",
       "      <td>21</td>\n",
       "    </tr>\n",
       "    <tr>\n",
       "      <th>2</th>\n",
       "      <td>3</td>\n",
       "      <td>63</td>\n",
       "      <td>17</td>\n",
       "      <td>0</td>\n",
       "      <td>21</td>\n",
       "    </tr>\n",
       "    <tr>\n",
       "      <th>3</th>\n",
       "      <td>4</td>\n",
       "      <td>63</td>\n",
       "      <td>17</td>\n",
       "      <td>0</td>\n",
       "      <td>21</td>\n",
       "    </tr>\n",
       "    <tr>\n",
       "      <th>4</th>\n",
       "      <td>5</td>\n",
       "      <td>63</td>\n",
       "      <td>17</td>\n",
       "      <td>0</td>\n",
       "      <td>21</td>\n",
       "    </tr>\n",
       "    <tr>\n",
       "      <th>5</th>\n",
       "      <td>6</td>\n",
       "      <td>63</td>\n",
       "      <td>17</td>\n",
       "      <td>0</td>\n",
       "      <td>21</td>\n",
       "    </tr>\n",
       "    <tr>\n",
       "      <th>6</th>\n",
       "      <td>7</td>\n",
       "      <td>63</td>\n",
       "      <td>17</td>\n",
       "      <td>0</td>\n",
       "      <td>21</td>\n",
       "    </tr>\n",
       "    <tr>\n",
       "      <th>7</th>\n",
       "      <td>8</td>\n",
       "      <td>63</td>\n",
       "      <td>17</td>\n",
       "      <td>0</td>\n",
       "      <td>21</td>\n",
       "    </tr>\n",
       "    <tr>\n",
       "      <th>8</th>\n",
       "      <td>9</td>\n",
       "      <td>63</td>\n",
       "      <td>17</td>\n",
       "      <td>0</td>\n",
       "      <td>21</td>\n",
       "    </tr>\n",
       "    <tr>\n",
       "      <th>9</th>\n",
       "      <td>10</td>\n",
       "      <td>63</td>\n",
       "      <td>17</td>\n",
       "      <td>0</td>\n",
       "      <td>21</td>\n",
       "    </tr>\n",
       "    <tr>\n",
       "      <th>10</th>\n",
       "      <td>11</td>\n",
       "      <td>63</td>\n",
       "      <td>17</td>\n",
       "      <td>0</td>\n",
       "      <td>21</td>\n",
       "    </tr>\n",
       "    <tr>\n",
       "      <th>11</th>\n",
       "      <td>12</td>\n",
       "      <td>63</td>\n",
       "      <td>17</td>\n",
       "      <td>0</td>\n",
       "      <td>21</td>\n",
       "    </tr>\n",
       "    <tr>\n",
       "      <th>12</th>\n",
       "      <td>13</td>\n",
       "      <td>63</td>\n",
       "      <td>17</td>\n",
       "      <td>0</td>\n",
       "      <td>21</td>\n",
       "    </tr>\n",
       "    <tr>\n",
       "      <th>13</th>\n",
       "      <td>14</td>\n",
       "      <td>63</td>\n",
       "      <td>17</td>\n",
       "      <td>0</td>\n",
       "      <td>21</td>\n",
       "    </tr>\n",
       "    <tr>\n",
       "      <th>14</th>\n",
       "      <td>15</td>\n",
       "      <td>63</td>\n",
       "      <td>17</td>\n",
       "      <td>0</td>\n",
       "      <td>21</td>\n",
       "    </tr>\n",
       "    <tr>\n",
       "      <th>15</th>\n",
       "      <td>16</td>\n",
       "      <td>63</td>\n",
       "      <td>17</td>\n",
       "      <td>0</td>\n",
       "      <td>21</td>\n",
       "    </tr>\n",
       "    <tr>\n",
       "      <th>16</th>\n",
       "      <td>17</td>\n",
       "      <td>63</td>\n",
       "      <td>17</td>\n",
       "      <td>0</td>\n",
       "      <td>21</td>\n",
       "    </tr>\n",
       "    <tr>\n",
       "      <th>17</th>\n",
       "      <td>18</td>\n",
       "      <td>63</td>\n",
       "      <td>17</td>\n",
       "      <td>0</td>\n",
       "      <td>21</td>\n",
       "    </tr>\n",
       "    <tr>\n",
       "      <th>18</th>\n",
       "      <td>19</td>\n",
       "      <td>2</td>\n",
       "      <td>36</td>\n",
       "      <td>2</td>\n",
       "      <td>0</td>\n",
       "    </tr>\n",
       "    <tr>\n",
       "      <th>19</th>\n",
       "      <td>20</td>\n",
       "      <td>2</td>\n",
       "      <td>36</td>\n",
       "      <td>2</td>\n",
       "      <td>0</td>\n",
       "    </tr>\n",
       "  </tbody>\n",
       "</table>\n",
       "</div>"
      ],
      "text/plain": [
       "    position  points  wins  ties  losses\n",
       "0          1      63    17     0      21\n",
       "1          2      63    17     0      21\n",
       "2          3      63    17     0      21\n",
       "3          4      63    17     0      21\n",
       "4          5      63    17     0      21\n",
       "5          6      63    17     0      21\n",
       "6          7      63    17     0      21\n",
       "7          8      63    17     0      21\n",
       "8          9      63    17     0      21\n",
       "9         10      63    17     0      21\n",
       "10        11      63    17     0      21\n",
       "11        12      63    17     0      21\n",
       "12        13      63    17     0      21\n",
       "13        14      63    17     0      21\n",
       "14        15      63    17     0      21\n",
       "15        16      63    17     0      21\n",
       "16        17      63    17     0      21\n",
       "17        18      63    17     0      21\n",
       "18        19       2    36     2       0\n",
       "19        20       2    36     2       0"
      ]
     },
     "execution_count": 6,
     "metadata": {},
     "output_type": "execute_result"
    }
   ],
   "source": [
    "# first we will create a 3D numpy array for simplifying the calculation\n",
    "matches_np = np.zeros((20, 20, 3), dtype=np.int64)\n",
    "for u, v, r in product(teams, teams, win_loss):\n",
    "    if u != v:\n",
    "        matches_np[u, v, r] = int(matches[u][v][r].varValue)\n",
    "\n",
    "\n",
    "# empty DataFrame\n",
    "df = pd.DataFrame()\n",
    "\n",
    "# column with the position\n",
    "df['position'] = [i for i in range(1, 21)]\n",
    "\n",
    "# column for points\n",
    "df['points'] = [int(points[u].varValue) for u in teams]\n",
    "\n",
    "# column for wins\n",
    "df['wins'] = matches_np[:,:,0].sum(axis=0) + matches_np[:,:,2].sum(axis=1)\n",
    "\n",
    "\n",
    "# column for ties\n",
    "df['ties'] = matches_np[:,:,1].sum(axis=0) + matches_np[:,:,1].sum(axis=1)\n",
    "\n",
    "\n",
    "# column for losses\n",
    "df['losses'] = matches_np[:,:,2].sum(axis=0) + matches_np[:,:,0].sum(axis=1)\n",
    "\n",
    "\n",
    "df"
   ]
  },
  {
   "cell_type": "markdown",
   "metadata": {},
   "source": [
    "This would be a really strange season but it makes sense. If you substract 4 wins (the four matches with the worst teams) it is a 18 teams league, and for maximizing the points for the last every team must win and loss the same number of matches.\n",
    "\n",
    "It has been quite easier to code this with linear programming than trying to calculate combinations of results, removing equivalent combinations, etc.\n",
    "\n",
    "And well, strictly speaking, 63 points may be not enough to save your team, so 64 points is the minimum."
   ]
  },
  {
   "cell_type": "markdown",
   "metadata": {},
   "source": [
    "## Simulations\n",
    "\n",
    "Let's try to simulate many different results for the season and plot the points that would save your team."
   ]
  },
  {
   "cell_type": "code",
   "execution_count": 7,
   "metadata": {},
   "outputs": [
    {
     "name": "stderr",
     "output_type": "stream",
     "text": [
      "100%|██████████| 100000/100000 [00:07<00:00, 13077.47it/s]\n"
     ]
    }
   ],
   "source": [
    "def simulate(seasons=100000, n_teams=20):\n",
    "\n",
    "    result = []\n",
    "\n",
    "    for i in tqdm(range(seasons)):\n",
    "\n",
    "        # random results\n",
    "        matches = np.eye(3)[np.random.randint(low=0, high=3, size=(n_teams,n_teams))]\n",
    "\n",
    "        # fix to zero matches of one team Vs itself\n",
    "        for i in range(n_teams):\n",
    "            matches[i,i,:] = np.zeros(3)\n",
    "\n",
    "        # calculate points\n",
    "        points = 3*(matches[:,:,0].sum(axis=0) + matches[:,:,2].sum(axis=1)) +\\\n",
    "                 1*(matches[:,:,1].sum(axis=0) + matches[:,:,1].sum(axis=1))\n",
    "\n",
    "        # sort points\n",
    "        points = np.sort(points)\n",
    "\n",
    "        # add to result\n",
    "        result.append(points[2])\n",
    "        \n",
    "    return np.array(result)\n",
    "\n",
    "simulated = simulate(seasons=100000)"
   ]
  },
  {
   "cell_type": "code",
   "execution_count": 8,
   "metadata": {},
   "outputs": [
    {
     "data": {
      "image/png": "[encoded data removed]",
      "text/plain": [
       "<Figure size 720x576 with 1 Axes>"
      ]
     },
     "metadata": {
      "needs_background": "light"
     },
     "output_type": "display_data"
    }
   ],
   "source": [
    "bins = np.arange(simulated.min(), simulated.max() + 2) - 0.5\n",
    "bin_centers = np.arange(simulated.min(), simulated.max() + 1)\n",
    "\n",
    "_ = plt.figure(figsize=(10,8))\n",
    "_ = plt.hist(simulated, bins=bins, density=True, cumulative=True)\n",
    "_ = plt.plot(bin_centers, np.histogram(simulated, bins=bins, density=True)[0].cumsum())\n",
    "_ = plt.xticks(bin_centers)\n",
    "_ = plt.grid()\n",
    "_ = plt.xlabel('points')"
   ]
  },
  {
   "cell_type": "markdown",
   "metadata": {},
   "source": [
    "So it looks like 41 points would lead your team to a lower division with about 60% (1 - 0.4) of probability. But we have simulated random matches with equal chances of win, tie or loss, no matter if one team is better. And the chances are not the same. So it is likely that the value of 41 points is just a historic result."
   ]
  }
 ],
 "metadata": {
  "kernelspec": {
   "display_name": "Python 3.8.10 ('.venv': venv)",
   "language": "python",
   "name": "python3"
  },
  "language_info": {
   "codemirror_mode": {
    "name": "ipython",
    "version": 3
   },
   "file_extension": ".py",
   "mimetype": "text/x-python",
   "name": "python",
   "nbconvert_exporter": "python",
   "pygments_lexer": "ipython3",
   "version": "3.8.10"
  },
  "orig_nbformat": 4,
  "vscode": {
   "interpreter": {
    "hash": "69dbc2166dc2ed5c4472617f693b522363c59c587f746a6b14a89f36a8d159c6"
   }
  }
 },
 "nbformat": 4,
 "nbformat_minor": 2
}
